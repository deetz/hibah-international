{
 "cells": [
  {
   "cell_type": "code",
   "execution_count": 193,
   "metadata": {},
   "outputs": [
    {
     "data": {
      "text/html": [
       "<div>\n",
       "<style scoped>\n",
       "    .dataframe tbody tr th:only-of-type {\n",
       "        vertical-align: middle;\n",
       "    }\n",
       "\n",
       "    .dataframe tbody tr th {\n",
       "        vertical-align: top;\n",
       "    }\n",
       "\n",
       "    .dataframe thead th {\n",
       "        text-align: right;\n",
       "    }\n",
       "</style>\n",
       "<table border=\"1\" class=\"dataframe\">\n",
       "  <thead>\n",
       "    <tr style=\"text-align: right;\">\n",
       "      <th></th>\n",
       "      <th>Author</th>\n",
       "      <th>Commit</th>\n",
       "      <th>Message</th>\n",
       "      <th>Date</th>\n",
       "    </tr>\n",
       "  </thead>\n",
       "  <tbody>\n",
       "    <tr>\n",
       "      <th>0</th>\n",
       "      <td>Tb Rama Ramadhan</td>\n",
       "      <td>a0f1100</td>\n",
       "      <td>Revisi Android</td>\n",
       "      <td>27/04/19</td>\n",
       "    </tr>\n",
       "    <tr>\n",
       "      <th>1</th>\n",
       "      <td>Muhammad Ishak Syukri</td>\n",
       "      <td>4c63cc1</td>\n",
       "      <td>Back end Konsultasi ref #20</td>\n",
       "      <td>25/04/19</td>\n",
       "    </tr>\n",
       "    <tr>\n",
       "      <th>2</th>\n",
       "      <td>Muhammad Ishak Syukri</td>\n",
       "      <td>f0e8b79</td>\n",
       "      <td>Back end konsultasi #20</td>\n",
       "      <td>25/04/19</td>\n",
       "    </tr>\n",
       "    <tr>\n",
       "      <th>3</th>\n",
       "      <td>Ghalib Mahendra</td>\n",
       "      <td>cc77c1a</td>\n",
       "      <td>Back End Artikel (ref #22)</td>\n",
       "      <td>22/04/19</td>\n",
       "    </tr>\n",
       "    <tr>\n",
       "      <th>4</th>\n",
       "      <td>Adityo Satrio</td>\n",
       "      <td>aba27e7</td>\n",
       "      <td>front end artikel ref #24</td>\n",
       "      <td>22/04/19</td>\n",
       "    </tr>\n",
       "  </tbody>\n",
       "</table>\n",
       "</div>"
      ],
      "text/plain": [
       "                  Author   Commit                      Message      Date\n",
       "0       Tb Rama Ramadhan  a0f1100               Revisi Android  27/04/19\n",
       "1  Muhammad Ishak Syukri  4c63cc1  Back end Konsultasi ref #20  25/04/19\n",
       "2  Muhammad Ishak Syukri  f0e8b79      Back end konsultasi #20  25/04/19\n",
       "3        Ghalib Mahendra  cc77c1a   Back End Artikel (ref #22)  22/04/19\n",
       "4          Adityo Satrio  aba27e7    front end artikel ref #24  22/04/19"
      ]
     },
     "execution_count": 193,
     "metadata": {},
     "output_type": "execute_result"
    }
   ],
   "source": [
    "import pandas as pd\n",
    "import numpy as np\n",
    "import matplotlib.pyplot as py\n",
    "\n",
    "#read csv\n",
    "data = pd.read_csv('doctor.csv')\n",
    "data.head()"
   ]
  },
  {
   "cell_type": "code",
   "execution_count": 199,
   "metadata": {},
   "outputs": [
    {
     "data": {
      "text/plain": [
       "0                 Revisi Android\n",
       "1    Back end Konsultasi ref #20\n",
       "2        Back end konsultasi #20\n",
       "3     Back End Artikel (ref #22)\n",
       "4      front end artikel ref #24\n",
       "Name: Message, dtype: object"
      ]
     },
     "execution_count": 199,
     "metadata": {},
     "output_type": "execute_result"
    }
   ],
   "source": [
    "#selection data message only\n",
    "newData = data['Message']\n",
    "newData.head()"
   ]
  },
  {
   "cell_type": "code",
   "execution_count": 204,
   "metadata": {},
   "outputs": [
    {
     "data": {
      "text/plain": [
       "0                 revisi android\n",
       "1    back end konsultasi ref #20\n",
       "2        back end konsultasi #20\n",
       "3     back end artikel (ref #22)\n",
       "4      front end artikel ref #24\n",
       "Name: Message, dtype: object"
      ]
     },
     "execution_count": 204,
     "metadata": {},
     "output_type": "execute_result"
    }
   ],
   "source": [
    "#change to lower\n",
    "newData = newData.str.lower()\n",
    "newData.head()"
   ]
  },
  {
   "cell_type": "code",
   "execution_count": 205,
   "metadata": {},
   "outputs": [
    {
     "data": {
      "text/plain": [
       "0                    [revisi, android]\n",
       "1    [back, end, konsultasi, ref, #20]\n",
       "2         [back, end, konsultasi, #20]\n",
       "3     [back, end, artikel, (ref, #22)]\n",
       "4      [front, end, artikel, ref, #24]\n",
       "Name: Message, dtype: object"
      ]
     },
     "execution_count": 205,
     "metadata": {},
     "output_type": "execute_result"
    }
   ],
   "source": [
    "#split data\n",
    "tempData = newData.str.split()\n",
    "tempData.head()"
   ]
  },
  {
   "cell_type": "code",
   "execution_count": null,
   "metadata": {},
   "outputs": [],
   "source": []
  },
  {
   "cell_type": "code",
   "execution_count": 206,
   "metadata": {},
   "outputs": [],
   "source": [
    "#feqdist\n",
    "from nltk.probability import FreqDist as fd\n",
    "count = fd(\"\")\n",
    "for i in range(len(tempData)) :\n",
    "    count += fd(tempData[i])\n"
   ]
  },
  {
   "cell_type": "code",
   "execution_count": 215,
   "metadata": {},
   "outputs": [
    {
     "data": {
      "image/png": "[encoded data removed]",
      "text/plain": [
       "<Figure size 432x288 with 1 Axes>"
      ]
     },
     "metadata": {
      "needs_background": "light"
     },
     "output_type": "display_data"
    },
    {
     "data": {
      "text/plain": [
       "<matplotlib.axes._subplots.AxesSubplot at 0x1f425b3dbe0>"
      ]
     },
     "execution_count": 215,
     "metadata": {},
     "output_type": "execute_result"
    }
   ],
   "source": [
    "count.plot(50)"
   ]
  },
  {
   "cell_type": "code",
   "execution_count": null,
   "metadata": {},
   "outputs": [],
   "source": []
  }
 ],
 "metadata": {
  "kernelspec": {
   "display_name": "Python 3",
   "language": "python",
   "name": "python3"
  },
  "language_info": {
   "codemirror_mode": {
    "name": "ipython",
    "version": 3
   },
   "file_extension": ".py",
   "mimetype": "text/x-python",
   "name": "python",
   "nbconvert_exporter": "python",
   "pygments_lexer": "ipython3",
   "version": "3.7.3"
  }
 },
 "nbformat": 4,
 "nbformat_minor": 4
}
